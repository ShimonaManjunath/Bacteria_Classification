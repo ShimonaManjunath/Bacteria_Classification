{
 "cells": [
  {
   "cell_type": "code",
   "execution_count": 2,
   "metadata": {
    "scrolled": true
   },
   "outputs": [
    {
     "name": "stderr",
     "output_type": "stream",
     "text": [
      "Using TensorFlow backend.\n"
     ]
    }
   ],
   "source": [
    "import numpy as np\n",
    "import pandas as pd\n",
    "from pathlib import Path\n",
    "import os.path\n",
    "import cv2\n",
    "from PIL import Image\n",
    "import tensorflow as tf\n",
    "import random\n",
    "import keras\n",
    "import keras.backend as K\n",
    "from keras.preprocessing import image\n",
    "from keras.layers import Conv2D, MaxPooling2D\n",
    "from keras.layers import Dropout, Flatten, Dense\n",
    "from keras.models import Sequential\n",
    "from keras.models import Model\n",
    "from keras.callbacks import ModelCheckpoint\n",
    "from keras.preprocessing.image import ImageDataGenerator"
   ]
  },
  {
   "cell_type": "code",
   "execution_count": 3,
   "metadata": {},
   "outputs": [
    {
     "name": "stdout",
     "output_type": "stream",
     "text": [
      "Found 1132 images belonging to 2 classes.\n",
      "Found 372 images belonging to 2 classes.\n",
      "Found 260 images belonging to 2 classes.\n",
      "here\n"
     ]
    }
   ],
   "source": [
    "train_file = '../Training'\n",
    "valid_file = '../Validation'\n",
    "test_file  = '../Testing'\n",
    "\n",
    "train_datagen = ImageDataGenerator(rescale=1. / 255, zoom_range=0.2)\n",
    "valid_datagen = ImageDataGenerator(rescale=1. / 255, zoom_range=0.2)\n",
    "test_datagen  = ImageDataGenerator(rescale=1. / 255, zoom_range=0.2)\n",
    "\n",
    "\n",
    "train_generator = train_datagen.flow_from_directory(train_file,\n",
    "                                                 target_size=(500, 500),\n",
    "                                                 batch_size=32,\n",
    "                                                 class_mode='categorical')\n",
    "\n",
    "valid_generator = train_datagen.flow_from_directory(valid_file,\n",
    "                                                 target_size=(500, 500),\n",
    "                                                 batch_size=32,\n",
    "                                                 class_mode='categorical')\n",
    "\n",
    "test_generator = test_datagen.flow_from_directory(test_file,\n",
    "                                            target_size=(500, 500),\n",
    "                                            batch_size=32,\n",
    "                                            class_mode='categorical')"
   ]
  },
  {
   "cell_type": "code",
   "execution_count": 14,
   "metadata": {},
   "outputs": [
    {
     "name": "stdout",
     "output_type": "stream",
     "text": [
      "_________________________________________________________________\n",
      "Layer (type)                 Output Shape              Param #   \n",
      "=================================================================\n",
      "conv2d_30 (Conv2D)           (None, 500, 500, 32)      128       \n",
      "_________________________________________________________________\n",
      "max_pooling2d_30 (MaxPooling (None, 250, 250, 32)      0         \n",
      "_________________________________________________________________\n",
      "conv2d_31 (Conv2D)           (None, 249, 249, 32)      4128      \n",
      "_________________________________________________________________\n",
      "max_pooling2d_31 (MaxPooling (None, 124, 124, 32)      0         \n",
      "_________________________________________________________________\n",
      "dropout_30 (Dropout)         (None, 124, 124, 32)      0         \n",
      "_________________________________________________________________\n",
      "conv2d_32 (Conv2D)           (None, 122, 122, 64)      18496     \n",
      "_________________________________________________________________\n",
      "max_pooling2d_32 (MaxPooling (None, 61, 61, 64)        0         \n",
      "_________________________________________________________________\n",
      "dropout_31 (Dropout)         (None, 61, 61, 64)        0         \n",
      "_________________________________________________________________\n",
      "conv2d_33 (Conv2D)           (None, 59, 59, 64)        36928     \n",
      "_________________________________________________________________\n",
      "max_pooling2d_33 (MaxPooling (None, 29, 29, 64)        0         \n",
      "_________________________________________________________________\n",
      "dropout_32 (Dropout)         (None, 29, 29, 64)        0         \n",
      "_________________________________________________________________\n",
      "conv2d_34 (Conv2D)           (None, 27, 27, 128)       73856     \n",
      "_________________________________________________________________\n",
      "max_pooling2d_34 (MaxPooling (None, 13, 13, 128)       0         \n",
      "_________________________________________________________________\n",
      "dropout_33 (Dropout)         (None, 13, 13, 128)       0         \n",
      "_________________________________________________________________\n",
      "conv2d_35 (Conv2D)           (None, 11, 11, 128)       147584    \n",
      "_________________________________________________________________\n",
      "max_pooling2d_35 (MaxPooling (None, 5, 5, 128)         0         \n",
      "_________________________________________________________________\n",
      "dropout_34 (Dropout)         (None, 5, 5, 128)         0         \n",
      "_________________________________________________________________\n",
      "flatten_6 (Flatten)          (None, 3200)              0         \n",
      "_________________________________________________________________\n",
      "dense_11 (Dense)             (None, 256)               819456    \n",
      "_________________________________________________________________\n",
      "dropout_35 (Dropout)         (None, 256)               0         \n",
      "_________________________________________________________________\n",
      "dense_12 (Dense)             (None, 2)                 514       \n",
      "=================================================================\n",
      "Total params: 1,101,090\n",
      "Trainable params: 1,101,090\n",
      "Non-trainable params: 0\n",
      "_________________________________________________________________\n"
     ]
    },
    {
     "data": {
      "text/plain": [
       "\"#check how to feed the input train set\\ninputs = Input(shape=(224,))\\nlayer1 = Dense(64, activation='relu')(inputs)\\nlayer2 = Dense(64, activation='relu')(layer1)\\npredictions = Dense(10, activation='softmax')(layer2)\\nmodel = Model(inputs=inputs, outputs=predictions)\\n\\ndef custom_loss(y_true,y_pred):\\n    \\n    alpha = 0.23\\n    # Create a loss function that adds a weight to the predictions\\n    return K.mean(K.square((1 - alpha)y_pred - (alpha)y_true))\\n    \\n# Compile the model\\nmodel.compile(optimizer='adam',\\n              loss=custom_loss(y_true,y_pred), # Call the loss function with the selected layer\\n              metrics=['accuracy'])\\n\\n\""
      ]
     },
     "execution_count": 14,
     "metadata": {},
     "output_type": "execute_result"
    }
   ],
   "source": [
    "\n",
    "model = Sequential()\n",
    "\n",
    "model.add(Conv2D(filters=32, kernel_size=1, activation='relu', input_shape = (500,500,3)))\n",
    "model.add(MaxPooling2D(pool_size=2))\n",
    "\n",
    "model.add(Conv2D(filters=32, kernel_size=2, activation='relu'))\n",
    "model.add(MaxPooling2D(pool_size=2))\n",
    "model.add(Dropout(0.2))\n",
    "\n",
    "model.add(Conv2D(filters=64, kernel_size=3, activation='relu'))\n",
    "model.add(MaxPooling2D(pool_size=2))\n",
    "model.add(Dropout(0.2))\n",
    "\n",
    "model.add(Conv2D(filters=64, kernel_size=3, activation='relu'))\n",
    "model.add(MaxPooling2D(pool_size=2))\n",
    "model.add(Dropout(0.2))\n",
    "\n",
    "model.add(Conv2D(filters=128, kernel_size=3, activation='relu'))\n",
    "model.add(MaxPooling2D(pool_size=2))\n",
    "model.add(Dropout(0.2))\n",
    "\n",
    "model.add(Conv2D(filters=128, kernel_size=3, activation='relu'))\n",
    "model.add(MaxPooling2D(pool_size=2))\n",
    "model.add(Dropout(0.2))\n",
    "\n",
    "model.add(Flatten())\n",
    "model.add(Dense(256, activation='softmax'))\n",
    "model.add(Dropout(0.5))\n",
    "\n",
    "model.add(Dense(2,activation='softmax'))\n",
    "\n",
    "\n",
    "model.summary()\n",
    "\n",
    "\n",
    "def recall(y_true, y_pred):\n",
    "     true_positives = K.sum(K.round(K.clip(y_true * y_pred, 0, 1)))\n",
    "     possible_positives = K.sum(K.round(K.clip(y_true, 0, 1)))\n",
    "     recall = true_positives / (possible_positives + K.epsilon())\n",
    "     return recall\n",
    "\n",
    "def precision(y_true, y_pred):\n",
    "    true_positives = K.sum(K.round(K.clip(y_true * y_pred, 0, 1)))\n",
    "    predicted_positives = K.sum(K.round(K.clip(y_pred, 0, 1)))\n",
    "    precision = true_positives / (predicted_positives + K.epsilon())\n",
    "    return precision\n",
    "\n",
    "sgd = keras.optimizers.SGD(lr=0.000001, momentum=0.9, decay=0.0001, nesterov=True)\n",
    "model.compile(optimizer= sgd, loss='binary_crossentropy', metrics=['accuracy', recall, precision])"
   ]
  },
  {
   "cell_type": "code",
   "execution_count": 15,
   "metadata": {},
   "outputs": [
    {
     "name": "stdout",
     "output_type": "stream",
     "text": [
      "Epoch 1/3\n",
      "36/36 [==============================] - 1291s 36s/step - loss: 0.6944 - acc: 0.3906 - recall: 0.3906 - precision: 0.3906 - val_loss: 0.6938 - val_acc: 0.1290 - val_recall: 0.1290 - val_precision: 0.1290\n",
      "Epoch 2/3\n",
      "36/36 [==============================] - 998s 28s/step - loss: 0.6943 - acc: 0.3897 - recall: 0.3897 - precision: 0.3897 - val_loss: 0.6937 - val_acc: 0.1290 - val_recall: 0.1290 - val_precision: 0.1290\n",
      "Epoch 3/3\n",
      "36/36 [==============================] - 996s 28s/step - loss: 0.6941 - acc: 0.4210 - recall: 0.4210 - precision: 0.4210 - val_loss: 0.6936 - val_acc: 0.1290 - val_recall: 0.1290 - val_precision: 0.1290\n"
     ]
    }
   ],
   "source": [
    "epochs = 30\n",
    " \n",
    "mpd = model.fit_generator(train_generator,\n",
    "                          steps_per_epoch = None,                                    \n",
    "                          epochs = epochs,                                         \n",
    "                          validation_data = valid_generator,\n",
    "                          validation_steps = None) "
   ]
  },
  {
   "cell_type": "code",
   "execution_count": 13,
   "metadata": {},
   "outputs": [
    {
     "name": "stderr",
     "output_type": "stream",
     "text": [
      "/anaconda3/envs/tensorflow/lib/python3.6/site-packages/ipykernel_launcher.py:10: UserWarning: Update your `evaluate_generator` call to the Keras 2 API: `evaluate_generator(<keras_pre..., 10, use_multiprocessing=False)`\n",
      "  # Remove the CWD from sys.path while we load stuff.\n"
     ]
    },
    {
     "name": "stdout",
     "output_type": "stream",
     "text": [
      "Loss:  0.6932463347911835 Accuracy:  0.4\n",
      "[0 0 0 0 0 0 0 0 0 0 0 0 0 0 0 0 0 0 0 0 0 0 0 0 0 0 0 0 0 0 0 0 0 0 0 0 0\n",
      " 0 0 0 0 0 0 0 0 0 0 0 0 0 0 0 0 0 0 0 0 0 0 0 0 0 0 0 0 0 0 0 0 0 0 0 0 0\n",
      " 0 0 0 0 0 0 0 0 0 0 0 0 0 0 0 0 0 0 0 0 0 0 0 0 0 0 0 0 0 0 0 0 0 0 0 0 0\n",
      " 0 0 0 0 0 0 0 0 0 0 0 0 0 0 0 0 0 0 0 0 0 0 0 0 0 0 0 0 0 0 0 0 0 0 0 0 0\n",
      " 0 0 0 0 0 0 0 0 0 0 0 0 0 0 0 0 0 0 0 0 0 0 0 0 0 0 0 0 0 0 0 0 0 0 0 0 0\n",
      " 0 0 0 0 0 0 0 0 0 0 0 0 0 0 0 0 0 0 0 0 0 0 0 0 0 0 0 0 0 0 0 0 0 0 0 0 0\n",
      " 0 0 0 0 0 0 0 0 0 0 0 0 0 0 0 0 0 0 0 0 0 0 0 0 0 0 0 0 0 0 0 0 0 0 0 0 0\n",
      " 0]\n",
      "                                   Filename    Predictions\n",
      "0    Non_Resistant/PIL-160_3dayLBCR-1.1.jpg  Non_Resistant\n",
      "1    Non_Resistant/PIL-160_3dayLBCR-1.2.jpg  Non_Resistant\n",
      "2    Non_Resistant/PIL-160_3dayLBCR-1.3.jpg  Non_Resistant\n",
      "3    Non_Resistant/PIL-160_3dayLBCR-1.4.jpg  Non_Resistant\n",
      "4    Non_Resistant/PIL-160_3dayLBCR-2.1.jpg  Non_Resistant\n",
      "5    Non_Resistant/PIL-160_3dayLBCR-2.2.jpg  Non_Resistant\n",
      "6    Non_Resistant/PIL-160_3dayLBCR-2.3.jpg  Non_Resistant\n",
      "7    Non_Resistant/PIL-160_3dayLBCR-2.4.jpg  Non_Resistant\n",
      "8    Non_Resistant/PIL-160_3dayLBCR-3.1.jpg  Non_Resistant\n",
      "9    Non_Resistant/PIL-160_3dayLBCR-3.2.jpg  Non_Resistant\n",
      "10   Non_Resistant/PIL-160_3dayLBCR-3.3.jpg  Non_Resistant\n",
      "11   Non_Resistant/PIL-160_3dayLBCR-3.4.jpg  Non_Resistant\n",
      "12   Non_Resistant/PIL-160_3dayLBCR-4.1.jpg  Non_Resistant\n",
      "13   Non_Resistant/PIL-160_3dayLBCR-4.2.jpg  Non_Resistant\n",
      "14   Non_Resistant/PIL-160_3dayLBCR-4.3.jpg  Non_Resistant\n",
      "15   Non_Resistant/PIL-160_3dayLBCR-4.4.jpg  Non_Resistant\n",
      "16   Non_Resistant/PIL-209_3dayLBCR-1.1.jpg  Non_Resistant\n",
      "17   Non_Resistant/PIL-209_3dayLBCR-1.2.jpg  Non_Resistant\n",
      "18   Non_Resistant/PIL-209_3dayLBCR-1.3.jpg  Non_Resistant\n",
      "19   Non_Resistant/PIL-209_3dayLBCR-1.4.jpg  Non_Resistant\n",
      "20   Non_Resistant/PIL-209_3dayLBCR-2.1.jpg  Non_Resistant\n",
      "21   Non_Resistant/PIL-209_3dayLBCR-2.2.jpg  Non_Resistant\n",
      "22   Non_Resistant/PIL-209_3dayLBCR-2.3.jpg  Non_Resistant\n",
      "23   Non_Resistant/PIL-209_3dayLBCR-2.4.jpg  Non_Resistant\n",
      "24   Non_Resistant/PIL-209_3dayLBCR-3.1.jpg  Non_Resistant\n",
      "25   Non_Resistant/PIL-209_3dayLBCR-3.2.jpg  Non_Resistant\n",
      "26   Non_Resistant/PIL-209_3dayLBCR-3.3.jpg  Non_Resistant\n",
      "27   Non_Resistant/PIL-209_3dayLBCR-3.4.jpg  Non_Resistant\n",
      "28   Non_Resistant/PIL-209_3dayLBCR-4.1.jpg  Non_Resistant\n",
      "29   Non_Resistant/PIL-209_3dayLBCR-4.2.jpg  Non_Resistant\n",
      "..                                      ...            ...\n",
      "230      Resistant/PIL-345_3dayLBCR-4.3.jpg  Non_Resistant\n",
      "231      Resistant/PIL-345_3dayLBCR-4.4.jpg  Non_Resistant\n",
      "232        Resistant/PIL-7_3dayLBCR-1.1.jpg  Non_Resistant\n",
      "233        Resistant/PIL-7_3dayLBCR-1.2.jpg  Non_Resistant\n",
      "234        Resistant/PIL-7_3dayLBCR-1.3.jpg  Non_Resistant\n",
      "235        Resistant/PIL-7_3dayLBCR-1.4.jpg  Non_Resistant\n",
      "236        Resistant/PIL-7_3dayLBCR-2.1.jpg  Non_Resistant\n",
      "237        Resistant/PIL-7_3dayLBCR-2.2.jpg  Non_Resistant\n",
      "238        Resistant/PIL-7_3dayLBCR-2.3.jpg  Non_Resistant\n",
      "239        Resistant/PIL-7_3dayLBCR-2.4.jpg  Non_Resistant\n",
      "240        Resistant/PIL-7_3dayLBCR-3.1.jpg  Non_Resistant\n",
      "241        Resistant/PIL-7_3dayLBCR-3.2.jpg  Non_Resistant\n",
      "242        Resistant/PIL-7_3dayLBCR-3.3.jpg  Non_Resistant\n",
      "243        Resistant/PIL-7_3dayLBCR-3.4.jpg  Non_Resistant\n",
      "244        Resistant/PIL-7_3dayLBCR-4.1.jpg  Non_Resistant\n",
      "245        Resistant/PIL-7_3dayLBCR-4.2.jpg  Non_Resistant\n",
      "246        Resistant/PIL-7_3dayLBCR-4.3.jpg  Non_Resistant\n",
      "247        Resistant/PIL-7_3dayLBCR-4.4.jpg  Non_Resistant\n",
      "248       Resistant/PIL-92_3dayLBCR-2.1.jpg  Non_Resistant\n",
      "249       Resistant/PIL-92_3dayLBCR-2.2.jpg  Non_Resistant\n",
      "250       Resistant/PIL-92_3dayLBCR-2.3.jpg  Non_Resistant\n",
      "251       Resistant/PIL-92_3dayLBCR-2.4.jpg  Non_Resistant\n",
      "252       Resistant/PIL-92_3dayLBCR-3.1.jpg  Non_Resistant\n",
      "253       Resistant/PIL-92_3dayLBCR-3.2.jpg  Non_Resistant\n",
      "254       Resistant/PIL-92_3dayLBCR-3.3.jpg  Non_Resistant\n",
      "255       Resistant/PIL-92_3dayLBCR-3.4.jpg  Non_Resistant\n",
      "256       Resistant/PIL-92_3dayLBCR-4.1.jpg  Non_Resistant\n",
      "257       Resistant/PIL-92_3dayLBCR-4.2.jpg  Non_Resistant\n",
      "258       Resistant/PIL-92_3dayLBCR-4.3.jpg  Non_Resistant\n",
      "259       Resistant/PIL-92_3dayLBCR-4.4.jpg  Non_Resistant\n",
      "\n",
      "[260 rows x 2 columns]\n"
     ]
    },
    {
     "data": {
      "text/plain": [
       "\"\\n\\n\\nprint('here')\\n\\npredictions = [np.argmax(model.predict(np.expand_dims(tensor, axis=0))) for tensor in test_files]\\nprint(np.array(predictions))\\nprint(np.array(test_targets))\\n\\ncompare_predictions = np.equal(np.array(predictions),np.array(test_targets))\\ntest_accuracy = 100*np.sum(compare_predictions)/len(predictions)\\nprint('Test accuracy: %.4f%%' % test_accuracy)\\n\\n# Plot training & validation accuracy values\\nplt.plot(history.history['acc'])\\n#plt.plot(history.history['val_acc'])\\nplt.title('Model accuracy')\\nplt.ylabel('Accuracy')\\nplt.xlabel('Epoch')\\nplt.legend(['Train', 'Test'], loc='upper left')\\nplt.show()\\n\\n# Plot training & validation loss values\\nplt.plot(history.history['loss'])\\n#plt.plot(history.history['val_loss'])\\nplt.title('Model loss')\\nplt.ylabel('Loss')\\nplt.xlabel('Epoch')\\nplt.legend(['Train', 'Test'], loc='upper left')\\nplt.show()\\n\\nprint(history.history.values)\\nprint(history.history['acc'])\\n\\n\\n\""
      ]
     },
     "execution_count": 13,
     "metadata": {},
     "output_type": "execute_result"
    }
   ],
   "source": [
    "valid_generator.batch_size = 1\n",
    "score = model.evaluate_generator(valid_generator)\n",
    "\n",
    "test_generator.reset()\n",
    "\n",
    "scores = model.predict_generator(test_generator, len(test_generator))\n",
    "print(\"Loss: \", score[0], \"Accuracy: \", score[1])\n",
    "\n",
    "predicted_class_indices=np.argmax(scores,axis=1)\n",
    "print(predicted_class_indices)\n",
    "\n",
    "label = (train_generator.class_indices)\n",
    "labels = dict((v,k) for k,v in labels.items())\n",
    "predictions = [labelss[k] for k in predicted_class_indices]\n",
    "\n",
    "filenames = test_generator.filenames\n",
    "results = pd.DataFrame({\"Filename\":filenames,\n",
    "                      \"Predictions\":predictions})\n",
    "\n",
    "print(results)\n"
   ]
  },
  {
   "cell_type": "code",
   "execution_count": null,
   "metadata": {},
   "outputs": [],
   "source": []
  }
 ],
 "metadata": {
  "kernelspec": {
   "display_name": "Python 3",
   "language": "python",
   "name": "python3"
  },
  "language_info": {
   "codemirror_mode": {
    "name": "ipython",
    "version": 3
   },
   "file_extension": ".py",
   "mimetype": "text/x-python",
   "name": "python",
   "nbconvert_exporter": "python",
   "pygments_lexer": "ipython3",
   "version": "3.6.7"
  }
 },
 "nbformat": 4,
 "nbformat_minor": 2
}
